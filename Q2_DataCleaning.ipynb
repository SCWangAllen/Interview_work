{
 "cells": [
  {
   "cell_type": "code",
   "execution_count": 2,
   "metadata": {
    "collapsed": true,
    "pycharm": {
     "name": "#%%\n"
    }
   },
   "outputs": [],
   "source": [
    "import numpy as np\n",
    "import pandas as pd\n",
    "import io"
   ]
  },
  {
   "cell_type": "code",
   "execution_count": 3,
   "outputs": [],
   "source": [
    "df = pd.read_csv(\"2 Machine Learning Dataset\\\\2 DataScientistJobs.csv\")"
   ],
   "metadata": {
    "collapsed": false,
    "pycharm": {
     "name": "#%%\n"
    }
   }
  },
  {
   "cell_type": "markdown",
   "source": [
    "# 看Data Information ，把info函數轉成我們好看的dataframe"
   ],
   "metadata": {
    "collapsed": false,
    "pycharm": {
     "name": "#%% md\n"
    }
   }
  },
  {
   "cell_type": "code",
   "execution_count": null,
   "outputs": [],
   "source": [
    "def get_data_description(data: pd.DataFrame):\n",
    "    buffer = io.StringIO()\n",
    "    data.info(buf=buffer)\n",
    "    lines = buffer.getvalue().splitlines()\n",
    "    details = (pd.DataFrame([x.split() for x in lines[5:-2]], columns=lines[3].split())\n",
    "               .drop('Count', axis=1)\n",
    "               .rename(columns={'Non-Null': 'Non-Null Count'})\n",
    "               .rename(columns={'#': 'number'}))\n",
    "    unique_value = []\n",
    "    for i in data.columns:\n",
    "        unique_value.append(len(data[i].unique()))\n",
    "    details['unique'] = unique_value\n",
    "    return details"
   ],
   "metadata": {
    "collapsed": false,
    "pycharm": {
     "name": "#%%\n"
    }
   }
  },
  {
   "cell_type": "markdown",
   "source": [
    "因為在上面的函數中，我使用了split()，沒有特別調，但是在這次檔案中columns中是有空白的，因此會出錯，我將columns有空白的部分加了底線， 讓我能使用上面的函數。"
   ],
   "metadata": {
    "collapsed": false,
    "pycharm": {
     "name": "#%% md\n"
    }
   }
  },
  {
   "cell_type": "code",
   "execution_count": 6,
   "outputs": [
    {
     "data": {
      "text/plain": "                                              Job_Title  \\\n0                                 Senior Data Scientist   \n1                     Data Scientist, Product Analytics   \n2                                  Data Science Manager   \n3                                          Data Analyst   \n4                                Director, Data Science   \n...                                                 ...   \n3904                                  AWS Data Engineer   \n3905                              Data Analyst â Junior   \n3906                   Security Analytics Data Engineer   \n3907                   Security Analytics Data Engineer   \n3908  Patient Safety Physician or Safety Scientist -...   \n\n                   Salary_Estimate  \\\n0     $111K-$181K (Glassdoor est.)   \n1     $111K-$181K (Glassdoor est.)   \n2     $111K-$181K (Glassdoor est.)   \n3     $111K-$181K (Glassdoor est.)   \n4     $111K-$181K (Glassdoor est.)   \n...                            ...   \n3904   $55K-$112K (Glassdoor est.)   \n3905   $55K-$112K (Glassdoor est.)   \n3906   $55K-$112K (Glassdoor est.)   \n3907   $55K-$112K (Glassdoor est.)   \n3908   $55K-$112K (Glassdoor est.)   \n\n                                        Job_Description  Rating  \\\n0     ABOUT HOPPER\\n\\nAt Hopper, we’re on a mission ...     3.5   \n1     At Noom, we use scientifically proven methods ...     4.5   \n2     Decode_M\\n\\nhttps://www.decode-m.com/\\n\\nData ...    -1.0   \n3     Sapphire Digital seeks a dynamic and driven mi...     3.4   \n4     Director, Data Science - (200537)\\nDescription...     3.4   \n...                                                 ...     ...   \n3904  About Us\\n\\nTachyon Technologies is a Digital ...     4.4   \n3905  Job description\\nInterpret data, analyze resul...     5.0   \n3906  Job DescriptionThe Security Analytics Data Eng...     3.8   \n3907  The Security Analytics Data Engineer will inte...     4.0   \n3908  Help us transform patients' lives.\\nAt UCB, we...     3.7   \n\n                               Company_Name       Location      Headquarters  \\\n0                               Hopper\\n3.5   New York, NY  Montreal, Canada   \n1                              Noom US\\n4.5   New York, NY      New York, NY   \n2                                  Decode_M   New York, NY      New York, NY   \n3                     Sapphire Digital\\n3.4  Lyndhurst, NJ     Lyndhurst, NJ   \n4           United Entertainment Group\\n3.4   New York, NY      New York, NY   \n...                                     ...            ...               ...   \n3904              Tachyon Technologies\\n4.4     Dublin, OH        Irving, TX   \n3905  Staffigo Technical Services, LLC\\n5.0   Columbus, OH     Woodridge, IL   \n3906                    PDS Tech, Inc.\\n3.8     Dublin, OH        Irving, TX   \n3907        Data Resource Technologies\\n4.0     Dublin, OH         Omaha, NE   \n3908                               UCB\\n3.7     Slough, OH  Brussel, Belgium   \n\n                         Size  Founded  Type_of_ownership  \\\n0       501 to 1000 employees     2007  Company - Private   \n1      1001 to 5000 employees     2008  Company - Private   \n2           1 to 50 employees       -1            Unknown   \n3        201 to 500 employees     2019  Company - Private   \n4         51 to 200 employees     2007  Company - Private   \n...                       ...      ...                ...   \n3904     201 to 500 employees     2011  Company - Private   \n3905      51 to 200 employees     2008  Company - Private   \n3906  5001 to 10000 employees     1977  Company - Private   \n3907        1 to 50 employees       -1  Company - Private   \n3908  5001 to 10000 employees       -1   Company - Public   \n\n                       Industry                     Sector  \\\n0               Travel Agencies           Travel & Tourism   \n1     Health, Beauty, & Fitness          Consumer Services   \n2                            -1                         -1   \n3                      Internet     Information Technology   \n4       Advertising & Marketing          Business Services   \n...                         ...                        ...   \n3904                IT Services     Information Technology   \n3905                IT Services     Information Technology   \n3906     Staffing & Outsourcing          Business Services   \n3907                 Accounting         Accounting & Legal   \n3908  Biotech & Pharmaceuticals  Biotech & Pharmaceuticals   \n\n                         Revenue               Competitors Easy_Apply  \n0       Unknown / Non-Applicable                        -1         -1  \n1       Unknown / Non-Applicable                        -1         -1  \n2       Unknown / Non-Applicable                        -1       True  \n3       Unknown / Non-Applicable      Zocdoc, Healthgrades         -1  \n4       Unknown / Non-Applicable  BBDO, Grey Group, Droga5         -1  \n...                          ...                       ...        ...  \n3904    $10 to $25 million (USD)                        -1         -1  \n3905   $50 to $100 million (USD)                        -1         -1  \n3906  $100 to $500 million (USD)                        -1         -1  \n3907  Less than $1 million (USD)                        -1         -1  \n3908      $2 to $5 billion (USD)                    AbbVie         -1  \n\n[3909 rows x 15 columns]",
      "text/html": "<div>\n<style scoped>\n    .dataframe tbody tr th:only-of-type {\n        vertical-align: middle;\n    }\n\n    .dataframe tbody tr th {\n        vertical-align: top;\n    }\n\n    .dataframe thead th {\n        text-align: right;\n    }\n</style>\n<table border=\"1\" class=\"dataframe\">\n  <thead>\n    <tr style=\"text-align: right;\">\n      <th></th>\n      <th>Job_Title</th>\n      <th>Salary_Estimate</th>\n      <th>Job_Description</th>\n      <th>Rating</th>\n      <th>Company_Name</th>\n      <th>Location</th>\n      <th>Headquarters</th>\n      <th>Size</th>\n      <th>Founded</th>\n      <th>Type_of_ownership</th>\n      <th>Industry</th>\n      <th>Sector</th>\n      <th>Revenue</th>\n      <th>Competitors</th>\n      <th>Easy_Apply</th>\n    </tr>\n  </thead>\n  <tbody>\n    <tr>\n      <th>0</th>\n      <td>Senior Data Scientist</td>\n      <td>$111K-$181K (Glassdoor est.)</td>\n      <td>ABOUT HOPPER\\n\\nAt Hopper, we’re on a mission ...</td>\n      <td>3.5</td>\n      <td>Hopper\\n3.5</td>\n      <td>New York, NY</td>\n      <td>Montreal, Canada</td>\n      <td>501 to 1000 employees</td>\n      <td>2007</td>\n      <td>Company - Private</td>\n      <td>Travel Agencies</td>\n      <td>Travel &amp; Tourism</td>\n      <td>Unknown / Non-Applicable</td>\n      <td>-1</td>\n      <td>-1</td>\n    </tr>\n    <tr>\n      <th>1</th>\n      <td>Data Scientist, Product Analytics</td>\n      <td>$111K-$181K (Glassdoor est.)</td>\n      <td>At Noom, we use scientifically proven methods ...</td>\n      <td>4.5</td>\n      <td>Noom US\\n4.5</td>\n      <td>New York, NY</td>\n      <td>New York, NY</td>\n      <td>1001 to 5000 employees</td>\n      <td>2008</td>\n      <td>Company - Private</td>\n      <td>Health, Beauty, &amp; Fitness</td>\n      <td>Consumer Services</td>\n      <td>Unknown / Non-Applicable</td>\n      <td>-1</td>\n      <td>-1</td>\n    </tr>\n    <tr>\n      <th>2</th>\n      <td>Data Science Manager</td>\n      <td>$111K-$181K (Glassdoor est.)</td>\n      <td>Decode_M\\n\\nhttps://www.decode-m.com/\\n\\nData ...</td>\n      <td>-1.0</td>\n      <td>Decode_M</td>\n      <td>New York, NY</td>\n      <td>New York, NY</td>\n      <td>1 to 50 employees</td>\n      <td>-1</td>\n      <td>Unknown</td>\n      <td>-1</td>\n      <td>-1</td>\n      <td>Unknown / Non-Applicable</td>\n      <td>-1</td>\n      <td>True</td>\n    </tr>\n    <tr>\n      <th>3</th>\n      <td>Data Analyst</td>\n      <td>$111K-$181K (Glassdoor est.)</td>\n      <td>Sapphire Digital seeks a dynamic and driven mi...</td>\n      <td>3.4</td>\n      <td>Sapphire Digital\\n3.4</td>\n      <td>Lyndhurst, NJ</td>\n      <td>Lyndhurst, NJ</td>\n      <td>201 to 500 employees</td>\n      <td>2019</td>\n      <td>Company - Private</td>\n      <td>Internet</td>\n      <td>Information Technology</td>\n      <td>Unknown / Non-Applicable</td>\n      <td>Zocdoc, Healthgrades</td>\n      <td>-1</td>\n    </tr>\n    <tr>\n      <th>4</th>\n      <td>Director, Data Science</td>\n      <td>$111K-$181K (Glassdoor est.)</td>\n      <td>Director, Data Science - (200537)\\nDescription...</td>\n      <td>3.4</td>\n      <td>United Entertainment Group\\n3.4</td>\n      <td>New York, NY</td>\n      <td>New York, NY</td>\n      <td>51 to 200 employees</td>\n      <td>2007</td>\n      <td>Company - Private</td>\n      <td>Advertising &amp; Marketing</td>\n      <td>Business Services</td>\n      <td>Unknown / Non-Applicable</td>\n      <td>BBDO, Grey Group, Droga5</td>\n      <td>-1</td>\n    </tr>\n    <tr>\n      <th>...</th>\n      <td>...</td>\n      <td>...</td>\n      <td>...</td>\n      <td>...</td>\n      <td>...</td>\n      <td>...</td>\n      <td>...</td>\n      <td>...</td>\n      <td>...</td>\n      <td>...</td>\n      <td>...</td>\n      <td>...</td>\n      <td>...</td>\n      <td>...</td>\n      <td>...</td>\n    </tr>\n    <tr>\n      <th>3904</th>\n      <td>AWS Data Engineer</td>\n      <td>$55K-$112K (Glassdoor est.)</td>\n      <td>About Us\\n\\nTachyon Technologies is a Digital ...</td>\n      <td>4.4</td>\n      <td>Tachyon Technologies\\n4.4</td>\n      <td>Dublin, OH</td>\n      <td>Irving, TX</td>\n      <td>201 to 500 employees</td>\n      <td>2011</td>\n      <td>Company - Private</td>\n      <td>IT Services</td>\n      <td>Information Technology</td>\n      <td>$10 to $25 million (USD)</td>\n      <td>-1</td>\n      <td>-1</td>\n    </tr>\n    <tr>\n      <th>3905</th>\n      <td>Data Analyst â Junior</td>\n      <td>$55K-$112K (Glassdoor est.)</td>\n      <td>Job description\\nInterpret data, analyze resul...</td>\n      <td>5.0</td>\n      <td>Staffigo Technical Services, LLC\\n5.0</td>\n      <td>Columbus, OH</td>\n      <td>Woodridge, IL</td>\n      <td>51 to 200 employees</td>\n      <td>2008</td>\n      <td>Company - Private</td>\n      <td>IT Services</td>\n      <td>Information Technology</td>\n      <td>$50 to $100 million (USD)</td>\n      <td>-1</td>\n      <td>-1</td>\n    </tr>\n    <tr>\n      <th>3906</th>\n      <td>Security Analytics Data Engineer</td>\n      <td>$55K-$112K (Glassdoor est.)</td>\n      <td>Job DescriptionThe Security Analytics Data Eng...</td>\n      <td>3.8</td>\n      <td>PDS Tech, Inc.\\n3.8</td>\n      <td>Dublin, OH</td>\n      <td>Irving, TX</td>\n      <td>5001 to 10000 employees</td>\n      <td>1977</td>\n      <td>Company - Private</td>\n      <td>Staffing &amp; Outsourcing</td>\n      <td>Business Services</td>\n      <td>$100 to $500 million (USD)</td>\n      <td>-1</td>\n      <td>-1</td>\n    </tr>\n    <tr>\n      <th>3907</th>\n      <td>Security Analytics Data Engineer</td>\n      <td>$55K-$112K (Glassdoor est.)</td>\n      <td>The Security Analytics Data Engineer will inte...</td>\n      <td>4.0</td>\n      <td>Data Resource Technologies\\n4.0</td>\n      <td>Dublin, OH</td>\n      <td>Omaha, NE</td>\n      <td>1 to 50 employees</td>\n      <td>-1</td>\n      <td>Company - Private</td>\n      <td>Accounting</td>\n      <td>Accounting &amp; Legal</td>\n      <td>Less than $1 million (USD)</td>\n      <td>-1</td>\n      <td>-1</td>\n    </tr>\n    <tr>\n      <th>3908</th>\n      <td>Patient Safety Physician or Safety Scientist -...</td>\n      <td>$55K-$112K (Glassdoor est.)</td>\n      <td>Help us transform patients' lives.\\nAt UCB, we...</td>\n      <td>3.7</td>\n      <td>UCB\\n3.7</td>\n      <td>Slough, OH</td>\n      <td>Brussel, Belgium</td>\n      <td>5001 to 10000 employees</td>\n      <td>-1</td>\n      <td>Company - Public</td>\n      <td>Biotech &amp; Pharmaceuticals</td>\n      <td>Biotech &amp; Pharmaceuticals</td>\n      <td>$2 to $5 billion (USD)</td>\n      <td>AbbVie</td>\n      <td>-1</td>\n    </tr>\n  </tbody>\n</table>\n<p>3909 rows × 15 columns</p>\n</div>"
     },
     "execution_count": 6,
     "metadata": {},
     "output_type": "execute_result"
    }
   ],
   "source": [
    "x = [x.replace(\" \", \"_\") for x in df.columns]\n",
    "df.columns = x\n",
    "df_final = df.copy()\n",
    "df_final = df_final.iloc[:, 2:]  #去除index和沒用的column\n",
    "df_final"
   ],
   "metadata": {
    "collapsed": false,
    "pycharm": {
     "name": "#%%\n"
    }
   }
  },
  {
   "cell_type": "code",
   "execution_count": 7,
   "outputs": [
    {
     "data": {
      "text/plain": "            Rating      Founded\ncount  3909.000000  3909.000000\nmean      3.283576  1479.154771\nstd       1.575749   855.750138\nmin      -1.000000    -1.000000\n25%       3.200000  1625.000000\n50%       3.700000  1976.000000\n75%       4.100000  2002.000000\nmax       5.000000  2020.000000",
      "text/html": "<div>\n<style scoped>\n    .dataframe tbody tr th:only-of-type {\n        vertical-align: middle;\n    }\n\n    .dataframe tbody tr th {\n        vertical-align: top;\n    }\n\n    .dataframe thead th {\n        text-align: right;\n    }\n</style>\n<table border=\"1\" class=\"dataframe\">\n  <thead>\n    <tr style=\"text-align: right;\">\n      <th></th>\n      <th>Rating</th>\n      <th>Founded</th>\n    </tr>\n  </thead>\n  <tbody>\n    <tr>\n      <th>count</th>\n      <td>3909.000000</td>\n      <td>3909.000000</td>\n    </tr>\n    <tr>\n      <th>mean</th>\n      <td>3.283576</td>\n      <td>1479.154771</td>\n    </tr>\n    <tr>\n      <th>std</th>\n      <td>1.575749</td>\n      <td>855.750138</td>\n    </tr>\n    <tr>\n      <th>min</th>\n      <td>-1.000000</td>\n      <td>-1.000000</td>\n    </tr>\n    <tr>\n      <th>25%</th>\n      <td>3.200000</td>\n      <td>1625.000000</td>\n    </tr>\n    <tr>\n      <th>50%</th>\n      <td>3.700000</td>\n      <td>1976.000000</td>\n    </tr>\n    <tr>\n      <th>75%</th>\n      <td>4.100000</td>\n      <td>2002.000000</td>\n    </tr>\n    <tr>\n      <th>max</th>\n      <td>5.000000</td>\n      <td>2020.000000</td>\n    </tr>\n  </tbody>\n</table>\n</div>"
     },
     "execution_count": 7,
     "metadata": {},
     "output_type": "execute_result"
    }
   ],
   "source": [
    "df_final.describe()"
   ],
   "metadata": {
    "collapsed": false,
    "pycharm": {
     "name": "#%%\n"
    }
   }
  },
  {
   "cell_type": "code",
   "execution_count": 8,
   "outputs": [
    {
     "data": {
      "text/plain": "   number             Column Non-Null Count    Dtype  unique\n0       0         Unnamed:_0           3909    int64    3909\n1       1              index           3909    int64    3909\n2       2          Job_Title           3909   object    2079\n3       3    Salary_Estimate           3909   object     148\n4       4    Job_Description           3909   object    3685\n5       5             Rating           3909  float64      37\n6       6       Company_Name           3909   object    2075\n7       7           Location           3909   object     191\n8       8       Headquarters           3909   object     543\n9       9               Size           3909   object       9\n10     10            Founded           3909    int64     173\n11     11  Type_of_ownership           3909   object      15\n12     12           Industry           3909   object      96\n13     13             Sector           3909   object      26\n14     14            Revenue           3909   object      14\n15     15        Competitors           3909   object     422\n16     16         Easy_Apply           3909   object       2",
      "text/html": "<div>\n<style scoped>\n    .dataframe tbody tr th:only-of-type {\n        vertical-align: middle;\n    }\n\n    .dataframe tbody tr th {\n        vertical-align: top;\n    }\n\n    .dataframe thead th {\n        text-align: right;\n    }\n</style>\n<table border=\"1\" class=\"dataframe\">\n  <thead>\n    <tr style=\"text-align: right;\">\n      <th></th>\n      <th>number</th>\n      <th>Column</th>\n      <th>Non-Null Count</th>\n      <th>Dtype</th>\n      <th>unique</th>\n    </tr>\n  </thead>\n  <tbody>\n    <tr>\n      <th>0</th>\n      <td>0</td>\n      <td>Unnamed:_0</td>\n      <td>3909</td>\n      <td>int64</td>\n      <td>3909</td>\n    </tr>\n    <tr>\n      <th>1</th>\n      <td>1</td>\n      <td>index</td>\n      <td>3909</td>\n      <td>int64</td>\n      <td>3909</td>\n    </tr>\n    <tr>\n      <th>2</th>\n      <td>2</td>\n      <td>Job_Title</td>\n      <td>3909</td>\n      <td>object</td>\n      <td>2079</td>\n    </tr>\n    <tr>\n      <th>3</th>\n      <td>3</td>\n      <td>Salary_Estimate</td>\n      <td>3909</td>\n      <td>object</td>\n      <td>148</td>\n    </tr>\n    <tr>\n      <th>4</th>\n      <td>4</td>\n      <td>Job_Description</td>\n      <td>3909</td>\n      <td>object</td>\n      <td>3685</td>\n    </tr>\n    <tr>\n      <th>5</th>\n      <td>5</td>\n      <td>Rating</td>\n      <td>3909</td>\n      <td>float64</td>\n      <td>37</td>\n    </tr>\n    <tr>\n      <th>6</th>\n      <td>6</td>\n      <td>Company_Name</td>\n      <td>3909</td>\n      <td>object</td>\n      <td>2075</td>\n    </tr>\n    <tr>\n      <th>7</th>\n      <td>7</td>\n      <td>Location</td>\n      <td>3909</td>\n      <td>object</td>\n      <td>191</td>\n    </tr>\n    <tr>\n      <th>8</th>\n      <td>8</td>\n      <td>Headquarters</td>\n      <td>3909</td>\n      <td>object</td>\n      <td>543</td>\n    </tr>\n    <tr>\n      <th>9</th>\n      <td>9</td>\n      <td>Size</td>\n      <td>3909</td>\n      <td>object</td>\n      <td>9</td>\n    </tr>\n    <tr>\n      <th>10</th>\n      <td>10</td>\n      <td>Founded</td>\n      <td>3909</td>\n      <td>int64</td>\n      <td>173</td>\n    </tr>\n    <tr>\n      <th>11</th>\n      <td>11</td>\n      <td>Type_of_ownership</td>\n      <td>3909</td>\n      <td>object</td>\n      <td>15</td>\n    </tr>\n    <tr>\n      <th>12</th>\n      <td>12</td>\n      <td>Industry</td>\n      <td>3909</td>\n      <td>object</td>\n      <td>96</td>\n    </tr>\n    <tr>\n      <th>13</th>\n      <td>13</td>\n      <td>Sector</td>\n      <td>3909</td>\n      <td>object</td>\n      <td>26</td>\n    </tr>\n    <tr>\n      <th>14</th>\n      <td>14</td>\n      <td>Revenue</td>\n      <td>3909</td>\n      <td>object</td>\n      <td>14</td>\n    </tr>\n    <tr>\n      <th>15</th>\n      <td>15</td>\n      <td>Competitors</td>\n      <td>3909</td>\n      <td>object</td>\n      <td>422</td>\n    </tr>\n    <tr>\n      <th>16</th>\n      <td>16</td>\n      <td>Easy_Apply</td>\n      <td>3909</td>\n      <td>object</td>\n      <td>2</td>\n    </tr>\n  </tbody>\n</table>\n</div>"
     },
     "execution_count": 8,
     "metadata": {},
     "output_type": "execute_result"
    }
   ],
   "source": [
    "df_detail = get_data_description(df)\n",
    "df_detail"
   ],
   "metadata": {
    "collapsed": false,
    "pycharm": {
     "name": "#%%\n"
    }
   }
  },
  {
   "cell_type": "markdown",
   "source": [
    "# Simple Feature Engineering\n",
    "要做EDA之前，要先針對比較重要的變數做特別的處理。"
   ],
   "metadata": {
    "collapsed": false,
    "pycharm": {
     "name": "#%% md\n"
    }
   }
  },
  {
   "cell_type": "markdown",
   "source": [
    "### 薪資間距處理(Salary Estimate)\n",
    "\n",
    "Salary Estimate要特別去處理一種是，Per Hour的薪資 因此我把它統一弄成年薪的樣子，並假設一年是52week，一周工作40hours"
   ],
   "metadata": {
    "collapsed": false,
    "pycharm": {
     "name": "#%% md\n"
    }
   }
  },
  {
   "cell_type": "code",
   "execution_count": 10,
   "outputs": [
    {
     "data": {
      "text/plain": "           Salary_cond               Salary_Estimate\n0     [111000, 181000]  $111K-$181K (Glassdoor est.)\n1     [111000, 181000]  $111K-$181K (Glassdoor est.)\n2     [111000, 181000]  $111K-$181K (Glassdoor est.)\n3     [111000, 181000]  $111K-$181K (Glassdoor est.)\n4     [111000, 181000]  $111K-$181K (Glassdoor est.)\n...                ...                           ...\n3904   [55000, 112000]   $55K-$112K (Glassdoor est.)\n3905   [55000, 112000]   $55K-$112K (Glassdoor est.)\n3906   [55000, 112000]   $55K-$112K (Glassdoor est.)\n3907   [55000, 112000]   $55K-$112K (Glassdoor est.)\n3908   [55000, 112000]   $55K-$112K (Glassdoor est.)\n\n[3909 rows x 2 columns]",
      "text/html": "<div>\n<style scoped>\n    .dataframe tbody tr th:only-of-type {\n        vertical-align: middle;\n    }\n\n    .dataframe tbody tr th {\n        vertical-align: top;\n    }\n\n    .dataframe thead th {\n        text-align: right;\n    }\n</style>\n<table border=\"1\" class=\"dataframe\">\n  <thead>\n    <tr style=\"text-align: right;\">\n      <th></th>\n      <th>Salary_cond</th>\n      <th>Salary_Estimate</th>\n    </tr>\n  </thead>\n  <tbody>\n    <tr>\n      <th>0</th>\n      <td>[111000, 181000]</td>\n      <td>$111K-$181K (Glassdoor est.)</td>\n    </tr>\n    <tr>\n      <th>1</th>\n      <td>[111000, 181000]</td>\n      <td>$111K-$181K (Glassdoor est.)</td>\n    </tr>\n    <tr>\n      <th>2</th>\n      <td>[111000, 181000]</td>\n      <td>$111K-$181K (Glassdoor est.)</td>\n    </tr>\n    <tr>\n      <th>3</th>\n      <td>[111000, 181000]</td>\n      <td>$111K-$181K (Glassdoor est.)</td>\n    </tr>\n    <tr>\n      <th>4</th>\n      <td>[111000, 181000]</td>\n      <td>$111K-$181K (Glassdoor est.)</td>\n    </tr>\n    <tr>\n      <th>...</th>\n      <td>...</td>\n      <td>...</td>\n    </tr>\n    <tr>\n      <th>3904</th>\n      <td>[55000, 112000]</td>\n      <td>$55K-$112K (Glassdoor est.)</td>\n    </tr>\n    <tr>\n      <th>3905</th>\n      <td>[55000, 112000]</td>\n      <td>$55K-$112K (Glassdoor est.)</td>\n    </tr>\n    <tr>\n      <th>3906</th>\n      <td>[55000, 112000]</td>\n      <td>$55K-$112K (Glassdoor est.)</td>\n    </tr>\n    <tr>\n      <th>3907</th>\n      <td>[55000, 112000]</td>\n      <td>$55K-$112K (Glassdoor est.)</td>\n    </tr>\n    <tr>\n      <th>3908</th>\n      <td>[55000, 112000]</td>\n      <td>$55K-$112K (Glassdoor est.)</td>\n    </tr>\n  </tbody>\n</table>\n<p>3909 rows × 2 columns</p>\n</div>"
     },
     "execution_count": 10,
     "metadata": {},
     "output_type": "execute_result"
    }
   ],
   "source": [
    "def hour_salary_deal(st):\n",
    "    \"\"\"\n",
    "    :param st:Salary裡的字串\n",
    "    :type st:\n",
    "    :return: 處理後的字串\n",
    "    :rtype: str\n",
    "    \"\"\"\n",
    "    hours_week = 40\n",
    "    weeks_year = 52\n",
    "    if \" Per Hour\" in st:\n",
    "        st_final=st.replace(\"(Glassdoor est.)\",\"\").replace(\"(Employer est.)\",\"\")\n",
    "        st_final = st_final.replace(\" Per Hour\", \"\")\n",
    "        st_up = int(st_final.split(\"-\")[0].replace('$', '')) * hours_week * weeks_year\n",
    "        st_down = int(st_final.split(\"-\")[1].replace('$', ''))* hours_week * weeks_year\n",
    "\n",
    "    else:\n",
    "        st_final=st.replace(\"(Glassdoor est.)\",\"\").replace(\"(Employer est.)\",\"\")\n",
    "        st_up = int(\n",
    "            st_final.split(\"-\")[0].replace(\"$\", \"\").replace(\"K\", \"000\")\n",
    "        )\n",
    "        st_down = int(\n",
    "            st_final.split(\"-\")[1].replace(\"$\", \"\").replace(\"K\", \"000\")\n",
    "        )\n",
    "    return [st_up,st_down]\n",
    "\n",
    "\n",
    "df_final[\"Salary_cond\"]=df_final['Salary_Estimate'].apply(lambda st:hour_salary_deal(st))\n",
    "df_final[['Salary_cond','Salary_Estimate']]"
   ],
   "metadata": {
    "collapsed": false,
    "pycharm": {
     "name": "#%%\n"
    }
   }
  },
  {
   "cell_type": "code",
   "execution_count": null,
   "outputs": [],
   "source": [
    "\n"
   ],
   "metadata": {
    "collapsed": false,
    "pycharm": {
     "name": "#%%\n"
    }
   }
  }
 ],
 "metadata": {
  "kernelspec": {
   "display_name": "Python 3",
   "language": "python",
   "name": "python3"
  },
  "language_info": {
   "codemirror_mode": {
    "name": "ipython",
    "version": 2
   },
   "file_extension": ".py",
   "mimetype": "text/x-python",
   "name": "python",
   "nbconvert_exporter": "python",
   "pygments_lexer": "ipython2",
   "version": "2.7.6"
  }
 },
 "nbformat": 4,
 "nbformat_minor": 0
}