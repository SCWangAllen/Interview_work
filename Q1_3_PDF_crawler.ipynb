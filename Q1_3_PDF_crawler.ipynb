{
 "cells": [
  {
   "cell_type": "code",
   "execution_count": 24,
   "metadata": {
    "pycharm": {
     "name": "#%%\n"
    }
   },
   "outputs": [],
   "source": [
    "import pandas as pd\n",
    "import numpy as np\n",
    "import pdfplumber\n",
    "\n",
    "#!pip install cv2"
   ]
  },
  {
   "cell_type": "code",
   "execution_count": 2,
   "metadata": {
    "pycharm": {
     "name": "#%%\n"
    }
   },
   "outputs": [],
   "source": [
    "pdf1_path=\"E:\\\\new_Desktop\\\\8月求職者複試題目 (1)\\\\8月複試內容\\\\1 爬蟲 PDF\\\\1 萬能科大.pdf\"\n",
    "pdf2_path=\"E:\\\\new_Desktop\\\\8月求職者複試題目 (1)\\\\8月複試內容\\\\1 爬蟲 PDF\\\\2 淡江大學.pdf\"\n",
    "pdf3_path=\"E:\\\\new_Desktop\\\\8月求職者複試題目 (1)\\\\8月複試內容\\\\1 爬蟲 PDF\\\\3 義守大學.pdf\""
   ]
  },
  {
   "cell_type": "markdown",
   "metadata": {
    "pycharm": {
     "name": "#%% md\n"
    }
   },
   "source": [
    "# 遭遇問題\n",
    "\n",
    "遇到一個問題，在我的爬蟲條件中，一般生正取、一般生正取這些關鍵字是很重要的\n",
    "\n",
    "但我直接打字的一般生正取，跟我從pdf的text中複製過來的一般生正取，似乎編碼不同，因此我還要重新去將其貼上才能處理\n",
    "\n",
    "但是處理成table的方式大致相同。"
   ]
  },
  {
   "cell_type": "code",
   "execution_count": 6,
   "metadata": {
    "pycharm": {
     "name": "#%%\n"
    }
   },
   "outputs": [],
   "source": [
    "class pdf_crawler:\n",
    "    \n",
    "    def __init__(self,pdf_file_path):\n",
    "        text=\"\"\n",
    "        pdf=pdfplumber.open(pdf_file_path)\n",
    "        for i in range(len(pdf.pages)):\n",
    "            text=text+pdf.pages[i].extract_text()\n",
    "            \n",
    "        self.text=text\n",
    "    @staticmethod\n",
    "    def delete_white(li):\n",
    "        \"\"\"\n",
    "        li為list 來去除當中空白的東西。\n",
    "        \"\"\"\n",
    "        df=[]\n",
    "        for h in range(len(li)):\n",
    "            if \"Ｏ\" in li[h]:\n",
    "                df.append(li[h])\n",
    "        return df\n",
    "    \n",
    "    \n",
    "    def get_df_list(self):\n",
    "        pdf_text=self.text.replace('\\n', '  ').replace('--', '系所--')\n",
    "        pdf_text=pdf_text.split('系所--')\n",
    "        pdf_text = pdf_text[1:]\n",
    "        total = []\n",
    "        names = []\n",
    "        for i in pdf_text:\n",
    "            if \"⼀般⽣正取\" in i:\n",
    "                postive = True\n",
    "            else:\n",
    "                postive = False\n",
    "            if \"⼀般⽣備取\" in i:\n",
    "                alternate = True\n",
    "            else:\n",
    "                alternate = False\n",
    "            if \"原住⺠正取\" in i:\n",
    "                ab_postive = True\n",
    "            else:\n",
    "                ab_postive = False\n",
    "            if \"原住⺠備取\" in i:\n",
    "                ab_alternate = True\n",
    "            else:\n",
    "                ab_alternate = False\n",
    "            if \"離島生正取\" in i:\n",
    "                out_postive = True\n",
    "            else:\n",
    "                out_postive = False\n",
    "            if \"離島生備取\" in i:\n",
    "                out_alternate = True\n",
    "            else:\n",
    "                out_alternate = False\n",
    "            name=i.split(\"  \")[0]\n",
    "            all_df=[]\n",
    "             #處理正常正備取\n",
    "            if postive:\n",
    "                postive_name = i.split(\"⼀般⽣正取\")[1].split(\"⼀般⽣備取\")[0].split(\" \")[4:]\n",
    "                if len(postive_name) > 1:\n",
    "                    postive_name = i.split(\"⼀般⽣正取\")[1].split(\"⼀般⽣備取\")[0].split(\" \")[4:][:-1]\n",
    "                else:\n",
    "                    postive_name = i.split(\"⼀般⽣正取\")[1].split(\"⼀般⽣備取\")[0].split(\" \")[4:]\n",
    "                #print(postive_name)\n",
    "                postive_df=self.delete_white(li=postive_name)\n",
    "                #不想要有空白格 ，用這個把它去掉\n",
    "#                 for h in range(len(postive_name)):\n",
    "#                     if \"Ｏ\" in postive_name[h]:\n",
    "#                         postive_df.append(postive_name[h])\n",
    "                postive_df = pd.DataFrame(postive_df, columns=[[f'{name}_一般生正取']]).reset_index()  #取得正取的dataframe\n",
    "                # print(postive_df)\n",
    "                # print(type(postive_df))\n",
    "                all_df.append(postive_df)\n",
    "            if alternate:\n",
    "                #print(i.split(\"一般生備取\")[1])\n",
    "                alternate_name = i.split(\"⼀般⽣備取\")[1].split('[')\n",
    "                alternate_name = alternate_name[1:]\n",
    "                alternate_name[-1] = alternate_name[-1].split(\"\\u3000\")[0]\n",
    "                alternate_df = []\n",
    "                #分字串的時候發現，朝陽大學的，同時有備取跟原住民備取時會出錯，家條件調整\n",
    "                for z in alternate_name:\n",
    "                    if \"原住⺠正取\" in z:\n",
    "                        c_index = alternate_name.index(z)\n",
    "                        # print(c_index)\n",
    "                        alternate_name = alternate_name[:c_index + 1]\n",
    "                        alternate_name[-1] = alternate_name[-1].split(\" \")[0]\n",
    "                for m in alternate_name:\n",
    "                    elm = m.split(\"]\")[1]\n",
    "                    alternate_df.append(elm)\n",
    "                alternate_df = pd.DataFrame(alternate_df, columns=[[f'{name}_⼀般⽣備取']]).reset_index()\n",
    "                # print(alternate_df)\n",
    "                # print(type(postive_df))\n",
    "                all_df.append(alternate_df)\n",
    "                #處理原住民生\n",
    "            if ab_postive:\n",
    "                ab_postive_name = i.split(\"原住⺠正取\")[1].split('原住⺠備取')[0].split(\" \")[4:]\n",
    "                if len(ab_postive_name) > 1:\n",
    "                    ab_postive_name = i.split(\"原住⺠正取\")[1].split('原住⺠備取')[0].split(\" \")[4:][:-1]\n",
    "                else:\n",
    "                    ab_postive_name = i.split(\"原住⺠正取\")[1].split('原住⺠備取')[0].split(\" \")[4:]\n",
    "                ab_postive_df = self.delete_white(li=ab_postive_name)\n",
    "#                 for p in ab_postive_name:\n",
    "#                     if len(p) <= 12:\n",
    "#                         ab_postive_df.append(p)\n",
    "#                     else:\n",
    "#                         p1 = p[0:11]\n",
    "#                         p2 = p[11:]\n",
    "#                         ab_postive_df.append(p1)\n",
    "#                         ab_postive_df.append(p2)\n",
    "\n",
    "                ab_postive_df = pd.DataFrame(ab_postive_df, columns=[[f'{name}_原住⺠正取']]).reset_index()\n",
    "                all_df.append(ab_postive_df)\n",
    "            if ab_alternate:\n",
    "                ab_alternate_name = i.split(\"原住⺠備取\")[1].split('[')\n",
    "                ab_alternate_name = ab_alternate_name[1:]\n",
    "                ab_alternate_name[-1] = ab_alternate_name[-1].split(\"\\u3000\")[0]\n",
    "                ab_alternate_df = []\n",
    "                for l in ab_alternate_name:\n",
    "                    elm = l.split(\"]\")[1]\n",
    "                    ab_alternate_df.append(elm)\n",
    "                ab_alternate_df = pd.DataFrame(ab_alternate_df, columns=[[f'{name}_原住⺠備取']]).reset_index()\n",
    "                all_df.append(ab_alternate_df)\n",
    "            wholedf = pd.DataFrame()\n",
    "            for o in range(len(all_df)):\n",
    "                if len(all_df) == 0:\n",
    "                    wholedf = pd.DataFrame(columns=[[f'{name}']])\n",
    "                elif o == 0 and len(all_df) != 1:\n",
    "                    wholedf = pd.merge(all_df[o], all_df[o + 1], how='outer')\n",
    "                elif o == 0 and len(all_df) == 1:\n",
    "                    wholedf = all_df[o]\n",
    "                else:\n",
    "                    wholedf = pd.merge(wholedf, all_df[o], how='outer')\n",
    "\n",
    "            total.append(wholedf)\n",
    "            names.append(name)\n",
    "        total_return = [total, names]\n",
    "        return total_return\n",
    "#         return all_df\n",
    "        \n",
    "        "
   ]
  },
  {
   "cell_type": "code",
   "execution_count": 7,
   "metadata": {
    "pycharm": {
     "name": "#%%\n"
    }
   },
   "outputs": [],
   "source": [
    "pdf1=pdf_crawler(pdf_file_path=pdf1_path).get_df_list()"
   ]
  },
  {
   "cell_type": "code",
   "execution_count": 8,
   "metadata": {
    "scrolled": true,
    "pycharm": {
     "name": "#%%\n"
    }
   },
   "outputs": [
    {
     "name": "stdout",
     "output_type": "stream",
     "text": [
      "0_室內設計與營建科技系室內設計與管理組(機械群)\n",
      "1_室內設計與營建科技系室內設計與管理組(⼟⽊與建築群)\n",
      "2_室內設計與營建科技系室內設計與管理組(設計群)\n",
      "3_資訊⼯程系電機控制組(電機與電⼦群電機類)\n",
      "4_資訊⼯程系電機控制組(電機與電⼦群資電類)\n",
      "5_資訊⼯程系遊戲設計與競技組(電機與電⼦群資電類)\n",
      "6_資訊⼯程系遊戲設計與競技組(設計群)\n",
      "7_資訊⼯程系遊戲設計與競技組(商業與管理群)\n",
      "8_航空光機電系(機械群)\n",
      "9_航空光機電系(動⼒機械群)\n",
      "10_航空光機電系(電機與電⼦群電機類)\n",
      "11_精密機械與⼯業⼯程系(機械群)\n",
      "12_精密機械與⼯業⼯程系(動⼒機械群)\n",
      "13_⾞輛⼯程系(動⼒機械群)\n",
      "14_化妝品應⽤與管理系(家政群幼保類)\n",
      "15_化妝品應⽤與管理系(家政群⽣活應⽤類)\n",
      "16_化妝品應⽤與管理系(餐旅群)\n",
      "17_時尚造型設計系時尚造型設計組(家政群⽣活應⽤類)\n",
      "18_時尚造型設計系時尚造型設計組(餐旅群)\n",
      "19_時尚造型設計系時尚造型設計組(藝術群影視類)\n",
      "20_時尚造型設計系時尚表演藝術組(家政群⽣活應⽤類)\n",
      "21_時尚造型設計系時尚表演藝術組(餐旅群)\n",
      "22_時尚造型設計系時尚表演藝術組(藝術群影視類)\n",
      "23_商業設計系(設計群)\n",
      "24_商業設計系(商業與管理群)\n",
      "25_商業設計系(家政群⽣活應⽤類)\n",
      "26_觀光與休閒事業管理系(商業與管理群)\n",
      "27_觀光與休閒事業管理系(外語群英語類)\n",
      "28_觀光與休閒事業管理系(餐旅群)\n",
      "29_餐飲管理系(餐旅群)\n",
      "30_旅館管理系(商業與管理群)\n",
      "31_旅館管理系(外語群英語類)\n",
      "32_旅館管理系(餐旅群)\n",
      "33_航空暨運輸服務管理系(商業與管理群)\n",
      "34_航空暨運輸服務管理系(外語群英語類)\n",
      "35_航空暨運輸服務管理系(餐旅群)\n",
      "36_航空暨運輸服務管理系國際服務組(家政群⽣活應⽤類)\n",
      "37_航空暨運輸服務管理系國際服務組(外語群英語類)\n",
      "38_航空暨運輸服務管理系國際服務組(外語群⽇語類)\n",
      "39_⾏銷與流通管理系(動⼒機械群)\n",
      "40_⾏銷與流通管理系(商業與管理群)\n",
      "41_⾏銷與流通管理系(餐旅群)\n",
      "42_⾏銷與流通管理系航空暨運籌管理組(商業與管理群)\n",
      "43_⾏銷與流通管理系航空暨運籌管理組(外語群英語類)\n",
      "44_企業管理系(動⼒機械群)\n",
      "45_企業管理系(商業與管理群)\n",
      "46_企業管理系(餐旅群)\n",
      "47_企業管理系餐旅微型創業管理組(商業與管理群)\n",
      "48_企業管理系餐旅微型創業管理組(餐旅群)\n",
      "49_資訊管理系(電機與電⼦群資電類)\n",
      "50_資訊管理系(商業與管理群)\n"
     ]
    }
   ],
   "source": [
    "for u in range(len(pdf1[0])):\n",
    "    name=pdf1[1][u]\n",
    "    print(f'{u}_{name}')\n",
    "    pdf1[0][u].to_csv(f'萬能科技大學_{name}.csv')"
   ]
  },
  {
   "cell_type": "code",
   "execution_count": 9,
   "metadata": {
    "pycharm": {
     "name": "#%%\n"
    }
   },
   "outputs": [],
   "source": [
    "pdf2=pdf_crawler(pdf_file_path=pdf2_path).get_df_list()"
   ]
  },
  {
   "cell_type": "code",
   "execution_count": 10,
   "metadata": {
    "pycharm": {
     "name": "#%%\n"
    }
   },
   "outputs": [
    {
     "name": "stdout",
     "output_type": "stream",
     "text": [
      "0_資訊傳播學系(設計群)\n",
      "1_化學⼯程與材料⼯程學系(化⼯群)\n",
      "2_會計學系(商業與管理群)\n",
      "3_資訊管理學系(資管類)\n",
      "4_英文學系(外語群英語類)\n",
      "5_⻄班牙語文學系(外語群⽇語類)\n",
      "6_俄國語文學系(外語群⽇語類)\n",
      "7_電機⼯程學系電機通訊組(電機與電⼦群電機類)\n",
      "8_化學⼯程與材料⼯程學系(食品群)\n"
     ]
    }
   ],
   "source": [
    "for u in range(len(pdf2[0])):\n",
    "    name=pdf2[1][u]\n",
    "    print(f'{u}_{name}')\n",
    "    pdf2[0][u].to_csv(f'淡江大學_{name}.csv')"
   ]
  },
  {
   "cell_type": "code",
   "execution_count": 21,
   "metadata": {
    "pycharm": {
     "name": "#%%\n"
    }
   },
   "outputs": [],
   "source": [
    "class origin_encode_cralwer:\n",
    "    def __init__(self, pdf_file_path):\n",
    "        text=\"\"\n",
    "        pdf=pdfplumber.open(pdf_file_path)\n",
    "        for i in range(len(pdf.pages)):\n",
    "            text=text+pdf.pages[i].extract_text()\n",
    "            \n",
    "        self.text=text\n",
    "\n",
    "    def get_df_list(self):\n",
    "        pdf_text=self.text.replace('\\n', '  ').replace('--', '系所--')\n",
    "        pdf_text=pdf_text.split('系所--')\n",
    "        pdf_text = pdf_text[1:]\n",
    "        total = []\n",
    "        names = []\n",
    "        for i in pdf_text:\n",
    "            if \"一般生正取\" in i:\n",
    "                postive = True\n",
    "            else:\n",
    "                postive = False\n",
    "            if \"一般生備取\" in i:\n",
    "                alternate = True\n",
    "            else:\n",
    "                alternate = False\n",
    "            if \"原住民正取\" in i:\n",
    "                ab_postive = True\n",
    "            else:\n",
    "                ab_postive = False\n",
    "            if \"原住民備取\" in i:\n",
    "                ab_alternate = True\n",
    "            else:\n",
    "                ab_alternate = False\n",
    "            if \"離島生正取\" in i:\n",
    "                out_postive = True\n",
    "            else:\n",
    "                out_postive = False\n",
    "            if \"離島生備取\" in i:\n",
    "                out_alternate = True\n",
    "            else:\n",
    "                out_alternate = False\n",
    "            # print(f'是否有正取:{postive}')\n",
    "            # print(f'是否有備取:{alternate}')\n",
    "            # print(i.split(\"  \")[0])  #取得系所名稱\n",
    "            name = i.split(\"  \")[0]\n",
    "            all_df = []\n",
    "#             print(name)\n",
    "            #處理正常正備取\n",
    "            if postive:\n",
    "                #print(f'正取_{i.split(\"一般生正取\")[1].split(\"一般生備取\")[0]}')\n",
    "\n",
    "                postive_name = i.split(\"一般生正取\")[1].split(\"一般生備取\")[0].split(\"  \")[4:]\n",
    "                if len(postive_name) > 1:\n",
    "                    postive_name = i.split(\"一般生正取\")[1].split(\"一般生備取\")[0].split(\"  \")[4:][:-1]\n",
    "                else:\n",
    "                    postive_name = i.split(\"一般生正取\")[1].split(\"一般生備取\")[0].split(\"  \")[4:]\n",
    "#                 print(postive_name[:-10])\n",
    "#                 postive_name=postive_name[:-10]\n",
    "                postive_df = pd.DataFrame(postive_name, columns=[[f'{name}_一般生正取']]).reset_index()  #取得正取的dataframe\n",
    "#                 print(postive_df)\n",
    "                # print(type(postive_df))\n",
    "                all_df.append(postive_df)\n",
    "            if alternate:\n",
    "                #print(i.split(\"一般生備取\")[1])\n",
    "                alternate_name = i.split(\"一般生備取\")[1].split('[')\n",
    "                alternate_name = alternate_name[1:]\n",
    "                alternate_name[-1] = alternate_name[-1].split(\"  \")[0]\n",
    "                for strip in range(len(alternate_name)):\n",
    "                    alternate_name[strip]=alternate_name[strip].rstrip(\"\")\n",
    "#                 print(alternate_name)\n",
    "                #分字串的時候發現，朝陽大學的，同時有備取跟原住民備取時會出錯，家條件調整\n",
    "#                 for z in alternate_name:\n",
    "#                     if \"原住民正取\" in z:\n",
    "#                         c_index = alternate_name.index(z)\n",
    "#                         # print(c_index)\n",
    "#                         alternate_name = alternate_name[:c_index + 1]\n",
    "#                         alternate_name[-1] = alternate_name[-1].split(\" \")[0]\n",
    "                for m in range(len(alternate_name)):\n",
    "                    alternate_name[m] = alternate_name[m].replace(\"]\",\" \")\n",
    "#                     alternate_df.append(elm)\n",
    "                alternate_df = pd.DataFrame(alternate_name, columns=[[f'{name}_一般生備取']]).reset_index()\n",
    "#                 print(alternate_df)\n",
    "                # print(type(postive_df))\n",
    "                all_df.append(alternate_df)\n",
    "\n",
    "            #處理原住民生\n",
    "            if ab_postive:\n",
    "                ab_postive_name = i.split(\"原住民正取\")[1].split('原住民備取')[0].split(\" \")[4:]\n",
    "                if len(ab_postive_name) > 1:\n",
    "                    ab_postive_name = i.split(\"原住民正取\")[1].split('原住民備取')[0].split(\" \")[4:][:-1]\n",
    "                else:\n",
    "                    ab_postive_name = i.split(\"原住民正取\")[1].split('原住民備取')[0].split(\" \")[4:]\n",
    "                ab_postive_df = []\n",
    "                for p in ab_postive_name:\n",
    "                    if len(p) <= 12:\n",
    "                        ab_postive_df.append(p)\n",
    "                    else:\n",
    "                        p1 = p[0:11]\n",
    "                        p2 = p[11:]\n",
    "                        ab_postive_df.append(p1)\n",
    "                        ab_postive_df.append(p2)\n",
    "                ab_postive_df = pd.DataFrame(ab_postive_df, columns=[[f'{name}_原住民正取']]).reset_index()\n",
    "                all_df.append(ab_postive_df)\n",
    "            if ab_alternate:\n",
    "                ab_alternate_name = i.split(\"原住民備取\")[1].split('[')\n",
    "                ab_alternate_name = ab_alternate_name[1:]\n",
    "                ab_alternate_name[-1] = ab_alternate_name[-1].split(\"\\u3000\")[0]\n",
    "                ab_alternate_df = []\n",
    "                for l in ab_alternate_name:\n",
    "                    elm = l.split(\"]\")[1]\n",
    "                    ab_alternate_df.append(elm)\n",
    "                ab_alternate_df = pd.DataFrame(ab_alternate_df, columns=[[f'{name}_原住民備取']]).reset_index()\n",
    "                all_df.append(ab_alternate_df)\n",
    "\n",
    "            #處理離島生\n",
    "            if out_postive:\n",
    "                out_postive_name = i.split(\"離島生正取\")[1].split('離島生備取')[0].split(\" \")[4:]\n",
    "                if len(out_postive_name) > 1:\n",
    "                    out_postive_name = i.split(\"離島生正取\")[1].split('離島生備取')[0].split(\" \")[4:][:-1]\n",
    "                else:\n",
    "                    out_postive_name = i.split(\"離島生正取\")[1].split('離島生備取')[0].split(\" \")[4:]\n",
    "                out_postive_df = []\n",
    "                for p in out_postive_name:\n",
    "                    if len(p) <= 12:\n",
    "                        out_postive_df.append(p)\n",
    "                    else:\n",
    "                        p1 = p[0:11]\n",
    "                        p2 = p[11:]\n",
    "                        out_postive_df.append(p1)\n",
    "                        out_postive_df.append(p2)\n",
    "                out_postive_df = pd.DataFrame(out_postive_df, columns=[[f'{name}_離島生正取']]).reset_index()\n",
    "                all_df.append(out_postive_df)\n",
    "            if out_alternate:\n",
    "                out_alternate_name = i.split(\"離島生備取\")[1].split('[')[1:][-1].split(\"  \")[:-1]\n",
    "                out_alternate_df = []\n",
    "                print(out_alternate_name)\n",
    "                for l in out_alternate_name:\n",
    "                    elm = l.split(\"]\")[1]\n",
    "                    out_alternate_df.append(elm)\n",
    "\n",
    "                out_alternate_df = pd.DataFrame(out_alternate_df, columns=[[f'{name}_離島生備取']]).reset_index()\n",
    "                all_df.append(out_alternate_df)\n",
    "            wholedf = pd.DataFrame()\n",
    "            for o in range(len(all_df)):\n",
    "                if len(all_df) == 0:\n",
    "                    wholedf = pd.DataFrame(columns=[[f'{name}']])\n",
    "                elif o == 0 and len(all_df) != 1:\n",
    "                    wholedf = pd.merge(all_df[o], all_df[o + 1], how='outer')\n",
    "                elif o == 0 and len(all_df) == 1:\n",
    "                    wholedf = all_df[o]\n",
    "                else:\n",
    "                    wholedf = pd.merge(wholedf, all_df[o], how='outer')\n",
    "\n",
    "            total.append(wholedf)\n",
    "            names.append(name)\n",
    "        total_return = [total, names]\n",
    "        return total_return"
   ]
  },
  {
   "cell_type": "code",
   "execution_count": 22,
   "metadata": {
    "pycharm": {
     "name": "#%%\n"
    }
   },
   "outputs": [],
   "source": [
    "pdf3=origin_encode_cralwer(pdf_file_path=pdf3_path).get_df_list()"
   ]
  },
  {
   "cell_type": "code",
   "execution_count": 23,
   "metadata": {
    "pycharm": {
     "name": "#%%\n"
    }
   },
   "outputs": [
    {
     "name": "stdout",
     "output_type": "stream",
     "text": [
      "0_機械與自動化工程學系(機械群)\n",
      "1_化學工程學系(化工群)\n",
      "2_土木工程學系(土木與建築群)\n",
      "3_創意商品設計學系(設計群)\n",
      "4_企業管理學系(商業與管理群)\n",
      "5_財務金融管理學系(商業與管理群)\n",
      "6_國際商務學系(商業與管理群)\n",
      "7_醫務管理學系(商業與管理群)\n",
      "8_休閒事業管理學系(商業與管理群)\n",
      "9_應用英語學系(外語群英語類)\n",
      "10_應用日語學系(外語群日語類)\n",
      "11_觀光學系(餐旅群)\n",
      "12_餐旅管理學系(餐旅群)\n",
      "13_廚藝學系(餐旅群)\n",
      "14_大眾傳播學系(藝術群影視類)\n",
      "15_國際觀光餐旅學系(餐旅群)\n",
      "16_國際觀光餐旅學系(外語群英語類)\n"
     ]
    }
   ],
   "source": [
    "for t in range(len(pdf3[0])):\n",
    "    name=pdf3[1][t]\n",
    "    print(f'{t}_{name}')\n",
    "    pdf3[0][t].to_csv(f'義守大學_{name}.csv')\n",
    "    "
   ]
  }
 ],
 "metadata": {
  "kernelspec": {
   "display_name": "Python 3 (ipykernel)",
   "language": "python",
   "name": "python3"
  },
  "language_info": {
   "codemirror_mode": {
    "name": "ipython",
    "version": 3
   },
   "file_extension": ".py",
   "mimetype": "text/x-python",
   "name": "python",
   "nbconvert_exporter": "python",
   "pygments_lexer": "ipython3",
   "version": "3.8.12"
  }
 },
 "nbformat": 4,
 "nbformat_minor": 1
}